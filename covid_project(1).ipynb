{
 "cells": [
  {
   "cell_type": "markdown",
   "metadata": {},
   "source": [
    "# Importing Libraries\n"
   ]
  },
  {
   "cell_type": "code",
   "execution_count": 1,
   "metadata": {},
   "outputs": [],
   "source": [
    "import numpy as np\n",
    "import matplotlib.pyplot as plt\n",
    "import pandas as pd\n",
    "import seaborn as sns\n",
    "import datetime as dt\n",
    "# from sklearn.metrics import mean_squared_error\n",
    "# import warnings \n",
    "# warnings.filterwarnings('ignore')"
   ]
  },
  {
   "cell_type": "markdown",
   "metadata": {},
   "source": [
    "# Importing Data Set"
   ]
  },
  {
   "cell_type": "code",
   "execution_count": 2,
   "metadata": {},
   "outputs": [
    {
     "name": "stderr",
     "output_type": "stream",
     "text": [
      "C:\\Users\\ashut\\anaconda3\\lib\\site-packages\\IPython\\core\\interactiveshell.py:3146: DtypeWarning: Columns (31,32,33,34) have mixed types.Specify dtype option on import or set low_memory=False.\n",
      "  has_raised = await self.run_ast_nodes(code_ast.body, cell_name,\n"
     ]
    }
   ],
   "source": [
    "df = pd.read_csv('EQ_2021_Data_retry.csv')"
   ]
  },
  {
   "cell_type": "code",
   "execution_count": 10,
   "metadata": {},
   "outputs": [
    {
     "data": {
      "text/html": [
       "<div>\n",
       "<style scoped>\n",
       "    .dataframe tbody tr th:only-of-type {\n",
       "        vertical-align: middle;\n",
       "    }\n",
       "\n",
       "    .dataframe tbody tr th {\n",
       "        vertical-align: top;\n",
       "    }\n",
       "\n",
       "    .dataframe thead th {\n",
       "        text-align: right;\n",
       "    }\n",
       "</style>\n",
       "<table border=\"1\" class=\"dataframe\">\n",
       "  <thead>\n",
       "    <tr style=\"text-align: right;\">\n",
       "      <th></th>\n",
       "      <th>countyFIPS</th>\n",
       "      <th>stateFIPS</th>\n",
       "      <th>date</th>\n",
       "      <th>confirmed_cases</th>\n",
       "      <th>deaths</th>\n",
       "      <th>google_mobility_retail_and_recreation</th>\n",
       "      <th>google_mobility_grocery_and_pharmacy</th>\n",
       "      <th>google_mobility_parks</th>\n",
       "      <th>google_mobility_transit_stations</th>\n",
       "      <th>google_mobility_workplaces</th>\n",
       "      <th>...</th>\n",
       "      <th>total_adult_patients_hospitalized_confirmed_covid_SD</th>\n",
       "      <th>total_pediatric_patients_hospitalized_confirmed_and_suspected_covid_SD</th>\n",
       "      <th>total_pediatric_patients_hospitalized_confirmed_covid_SD</th>\n",
       "      <th>inpatient_beds_utilization_SD</th>\n",
       "      <th>inpatient_beds_utilization_numerator_SD</th>\n",
       "      <th>inpatient_beds_utilization_denominator_SD</th>\n",
       "      <th>percent_of_inpatients_with_covid_SD</th>\n",
       "      <th>inpatient_bed_covid_utilization_SD</th>\n",
       "      <th>adult_icu_bed_covid_utilization_SD</th>\n",
       "      <th>adult_icu_bed_utilization_SD</th>\n",
       "    </tr>\n",
       "  </thead>\n",
       "  <tbody>\n",
       "    <tr>\n",
       "      <th>0</th>\n",
       "      <td>1001</td>\n",
       "      <td>1</td>\n",
       "      <td>2020-01-22</td>\n",
       "      <td>0</td>\n",
       "      <td>0</td>\n",
       "      <td>NaN</td>\n",
       "      <td>NaN</td>\n",
       "      <td>NaN</td>\n",
       "      <td>NaN</td>\n",
       "      <td>NaN</td>\n",
       "      <td>...</td>\n",
       "      <td>0.0</td>\n",
       "      <td>0.0</td>\n",
       "      <td>0.0</td>\n",
       "      <td>0.0</td>\n",
       "      <td>0.0</td>\n",
       "      <td>0.0</td>\n",
       "      <td>0.0</td>\n",
       "      <td>0.0</td>\n",
       "      <td>0.0</td>\n",
       "      <td>0.0</td>\n",
       "    </tr>\n",
       "    <tr>\n",
       "      <th>1</th>\n",
       "      <td>1003</td>\n",
       "      <td>1</td>\n",
       "      <td>2020-01-22</td>\n",
       "      <td>0</td>\n",
       "      <td>0</td>\n",
       "      <td>NaN</td>\n",
       "      <td>NaN</td>\n",
       "      <td>NaN</td>\n",
       "      <td>NaN</td>\n",
       "      <td>NaN</td>\n",
       "      <td>...</td>\n",
       "      <td>0.0</td>\n",
       "      <td>0.0</td>\n",
       "      <td>0.0</td>\n",
       "      <td>0.0</td>\n",
       "      <td>0.0</td>\n",
       "      <td>0.0</td>\n",
       "      <td>0.0</td>\n",
       "      <td>0.0</td>\n",
       "      <td>0.0</td>\n",
       "      <td>0.0</td>\n",
       "    </tr>\n",
       "    <tr>\n",
       "      <th>2</th>\n",
       "      <td>1005</td>\n",
       "      <td>1</td>\n",
       "      <td>2020-01-22</td>\n",
       "      <td>0</td>\n",
       "      <td>0</td>\n",
       "      <td>NaN</td>\n",
       "      <td>NaN</td>\n",
       "      <td>NaN</td>\n",
       "      <td>NaN</td>\n",
       "      <td>NaN</td>\n",
       "      <td>...</td>\n",
       "      <td>0.0</td>\n",
       "      <td>0.0</td>\n",
       "      <td>0.0</td>\n",
       "      <td>0.0</td>\n",
       "      <td>0.0</td>\n",
       "      <td>0.0</td>\n",
       "      <td>0.0</td>\n",
       "      <td>0.0</td>\n",
       "      <td>0.0</td>\n",
       "      <td>0.0</td>\n",
       "    </tr>\n",
       "    <tr>\n",
       "      <th>3</th>\n",
       "      <td>1007</td>\n",
       "      <td>1</td>\n",
       "      <td>2020-01-22</td>\n",
       "      <td>0</td>\n",
       "      <td>0</td>\n",
       "      <td>NaN</td>\n",
       "      <td>NaN</td>\n",
       "      <td>NaN</td>\n",
       "      <td>NaN</td>\n",
       "      <td>NaN</td>\n",
       "      <td>...</td>\n",
       "      <td>0.0</td>\n",
       "      <td>0.0</td>\n",
       "      <td>0.0</td>\n",
       "      <td>0.0</td>\n",
       "      <td>0.0</td>\n",
       "      <td>0.0</td>\n",
       "      <td>0.0</td>\n",
       "      <td>0.0</td>\n",
       "      <td>0.0</td>\n",
       "      <td>0.0</td>\n",
       "    </tr>\n",
       "    <tr>\n",
       "      <th>4</th>\n",
       "      <td>1009</td>\n",
       "      <td>1</td>\n",
       "      <td>2020-01-22</td>\n",
       "      <td>0</td>\n",
       "      <td>0</td>\n",
       "      <td>NaN</td>\n",
       "      <td>NaN</td>\n",
       "      <td>NaN</td>\n",
       "      <td>NaN</td>\n",
       "      <td>NaN</td>\n",
       "      <td>...</td>\n",
       "      <td>0.0</td>\n",
       "      <td>0.0</td>\n",
       "      <td>0.0</td>\n",
       "      <td>0.0</td>\n",
       "      <td>0.0</td>\n",
       "      <td>0.0</td>\n",
       "      <td>0.0</td>\n",
       "      <td>0.0</td>\n",
       "      <td>0.0</td>\n",
       "      <td>0.0</td>\n",
       "    </tr>\n",
       "  </tbody>\n",
       "</table>\n",
       "<p>5 rows × 82 columns</p>\n",
       "</div>"
      ],
      "text/plain": [
       "   countyFIPS  stateFIPS        date  confirmed_cases  deaths  \\\n",
       "0        1001          1  2020-01-22                0       0   \n",
       "1        1003          1  2020-01-22                0       0   \n",
       "2        1005          1  2020-01-22                0       0   \n",
       "3        1007          1  2020-01-22                0       0   \n",
       "4        1009          1  2020-01-22                0       0   \n",
       "\n",
       "   google_mobility_retail_and_recreation  \\\n",
       "0                                    NaN   \n",
       "1                                    NaN   \n",
       "2                                    NaN   \n",
       "3                                    NaN   \n",
       "4                                    NaN   \n",
       "\n",
       "   google_mobility_grocery_and_pharmacy  google_mobility_parks  \\\n",
       "0                                   NaN                    NaN   \n",
       "1                                   NaN                    NaN   \n",
       "2                                   NaN                    NaN   \n",
       "3                                   NaN                    NaN   \n",
       "4                                   NaN                    NaN   \n",
       "\n",
       "   google_mobility_transit_stations  google_mobility_workplaces  ...  \\\n",
       "0                               NaN                         NaN  ...   \n",
       "1                               NaN                         NaN  ...   \n",
       "2                               NaN                         NaN  ...   \n",
       "3                               NaN                         NaN  ...   \n",
       "4                               NaN                         NaN  ...   \n",
       "\n",
       "   total_adult_patients_hospitalized_confirmed_covid_SD  \\\n",
       "0                                                0.0      \n",
       "1                                                0.0      \n",
       "2                                                0.0      \n",
       "3                                                0.0      \n",
       "4                                                0.0      \n",
       "\n",
       "   total_pediatric_patients_hospitalized_confirmed_and_suspected_covid_SD  \\\n",
       "0                                                0.0                        \n",
       "1                                                0.0                        \n",
       "2                                                0.0                        \n",
       "3                                                0.0                        \n",
       "4                                                0.0                        \n",
       "\n",
       "   total_pediatric_patients_hospitalized_confirmed_covid_SD  \\\n",
       "0                                                0.0          \n",
       "1                                                0.0          \n",
       "2                                                0.0          \n",
       "3                                                0.0          \n",
       "4                                                0.0          \n",
       "\n",
       "   inpatient_beds_utilization_SD  inpatient_beds_utilization_numerator_SD  \\\n",
       "0                            0.0                                      0.0   \n",
       "1                            0.0                                      0.0   \n",
       "2                            0.0                                      0.0   \n",
       "3                            0.0                                      0.0   \n",
       "4                            0.0                                      0.0   \n",
       "\n",
       "   inpatient_beds_utilization_denominator_SD  \\\n",
       "0                                        0.0   \n",
       "1                                        0.0   \n",
       "2                                        0.0   \n",
       "3                                        0.0   \n",
       "4                                        0.0   \n",
       "\n",
       "   percent_of_inpatients_with_covid_SD  inpatient_bed_covid_utilization_SD  \\\n",
       "0                                  0.0                                 0.0   \n",
       "1                                  0.0                                 0.0   \n",
       "2                                  0.0                                 0.0   \n",
       "3                                  0.0                                 0.0   \n",
       "4                                  0.0                                 0.0   \n",
       "\n",
       "   adult_icu_bed_covid_utilization_SD  adult_icu_bed_utilization_SD  \n",
       "0                                 0.0                           0.0  \n",
       "1                                 0.0                           0.0  \n",
       "2                                 0.0                           0.0  \n",
       "3                                 0.0                           0.0  \n",
       "4                                 0.0                           0.0  \n",
       "\n",
       "[5 rows x 82 columns]"
      ]
     },
     "execution_count": 10,
     "metadata": {},
     "output_type": "execute_result"
    }
   ],
   "source": [
    "df.head()"
   ]
  },
  {
   "cell_type": "code",
   "execution_count": 4,
   "metadata": {},
   "outputs": [
    {
     "name": "stdout",
     "output_type": "stream",
     "text": [
      "countyFIPS                                       0\n",
      "stateFIPS                                        0\n",
      "date                                             0\n",
      "confirmed_cases                                  0\n",
      "deaths                                           0\n",
      "                                             ...  \n",
      "inpatient_beds_utilization_denominator_SD    98550\n",
      "percent_of_inpatients_with_covid_SD          98550\n",
      "inpatient_bed_covid_utilization_SD           98550\n",
      "adult_icu_bed_covid_utilization_SD           98550\n",
      "adult_icu_bed_utilization_SD                 98550\n",
      "Length: 82, dtype: int64\n"
     ]
    }
   ],
   "source": [
    "# x=df.isnull().sum()\n",
    "# print(x)"
   ]
  },
  {
   "cell_type": "markdown",
   "metadata": {},
   "source": [
    "## Visualizing missing values columns"
   ]
  },
  {
   "cell_type": "code",
   "execution_count": 5,
   "metadata": {},
   "outputs": [
    {
     "data": {
      "text/plain": [
       "<AxesSubplot:>"
      ]
     },
     "execution_count": 5,
     "metadata": {},
     "output_type": "execute_result"
    },
    {
     "data": {
      "image/png": "[encoded data removed]",
      "text/plain": [
       "<Figure size 432x288 with 1 Axes>"
      ]
     },
     "metadata": {
      "needs_background": "light"
     },
     "output_type": "display_data"
    }
   ],
   "source": [
    "# missing_cols=df.isnull().sum()\n",
    "sns.heatmap(df.isnull(),yticklabels=False,cbar=False,cmap='viridis')\n"
   ]
  },
  {
   "cell_type": "code",
   "execution_count": 4,
   "metadata": {},
   "outputs": [
    {
     "name": "stdout",
     "output_type": "stream",
     "text": [
      "apple_mobility_transit                   0.953895\n",
      "apple_mobility_walking                   0.878855\n",
      "YoY_Reopened_Seated_Diner_Data           0.859176\n",
      "google_mobility_parks                    0.833033\n",
      "google_mobility_transit_stations         0.729797\n",
      "S_D_cummulative_test                     0.675605\n",
      "S_D_dly_new_test                         0.675605\n",
      "initclaims_rate_regular_cw               0.670357\n",
      "initclaims_count_regular_cw              0.670357\n",
      "revenue_all_cd                           0.657763\n",
      "merchants_all_cd                         0.657763\n",
      "google_mobility_residential              0.612872\n",
      "google_mobility_grocery_and_pharmacy     0.565461\n",
      "google_mobility_retail_and_recreation    0.519306\n",
      "spend_all_cd                             0.510176\n",
      "dtype: float64\n"
     ]
    }
   ],
   "source": [
    "# missing_cols=df.isnull().sum()/len(df)\n",
    "# missing_cols=missing_cols[missing_cols>0.5]\n",
    "# missing_cols.sort_values(ascending=False,inplace=True)\n",
    "# print(missing_cols)\n",
    "# cols_to_remove=list(missing_cols.index)\n",
    "# print(df[cols_to_remove].head())\n",
    "# print(cols_to_remove)\n"
   ]
  },
  {
   "cell_type": "code",
   "execution_count": 14,
   "metadata": {},
   "outputs": [
    {
     "name": "stdout",
     "output_type": "stream",
     "text": [
      "(1179375, 82)\n"
     ]
    }
   ],
   "source": [
    "print(df.shape)"
   ]
  },
  {
   "cell_type": "markdown",
   "metadata": {},
   "source": [
    "# Removing columns with more than 50% empty cells"
   ]
  },
  {
   "cell_type": "code",
   "execution_count": 5,
   "metadata": {},
   "outputs": [
    {
     "name": "stdout",
     "output_type": "stream",
     "text": [
      "   countyFIPS  stateFIPS        date  confirmed_cases  deaths  \\\n",
      "0        1001          1  2020-01-22                0       0   \n",
      "1        1003          1  2020-01-22                0       0   \n",
      "2        1005          1  2020-01-22                0       0   \n",
      "3        1007          1  2020-01-22                0       0   \n",
      "4        1009          1  2020-01-22                0       0   \n",
      "\n",
      "   google_mobility_workplaces  apple_mobility_driving  \\\n",
      "0                         NaN                  101.51   \n",
      "1                         NaN                  103.12   \n",
      "2                         NaN                  120.67   \n",
      "3                         NaN                  111.18   \n",
      "4                         NaN                   91.56   \n",
      "\n",
      "   Electricity_Sales_ Revenue_Residential ($ x1000)  \\\n",
      "0                                        670692.302   \n",
      "1                                        670692.302   \n",
      "2                                        670692.302   \n",
      "3                                        670692.302   \n",
      "4                                        670692.302   \n",
      "\n",
      "   Electricity_Sales_ Sales_Residential (MWHr)  \\\n",
      "0                                  5414230.614   \n",
      "1                                  5414230.614   \n",
      "2                                  5414230.614   \n",
      "3                                  5414230.614   \n",
      "4                                  5414230.614   \n",
      "\n",
      "   Electricity_Sales_ Customers_Count_Residential  ...  \\\n",
      "0                                       4585564.0  ...   \n",
      "1                                       4585564.0  ...   \n",
      "2                                       4585564.0  ...   \n",
      "3                                       4585564.0  ...   \n",
      "4                                       4585564.0  ...   \n",
      "\n",
      "   total_adult_patients_hospitalized_confirmed_covid_SD  \\\n",
      "0                                                0.0      \n",
      "1                                                0.0      \n",
      "2                                                0.0      \n",
      "3                                                0.0      \n",
      "4                                                0.0      \n",
      "\n",
      "   total_pediatric_patients_hospitalized_confirmed_and_suspected_covid_SD  \\\n",
      "0                                                0.0                        \n",
      "1                                                0.0                        \n",
      "2                                                0.0                        \n",
      "3                                                0.0                        \n",
      "4                                                0.0                        \n",
      "\n",
      "   total_pediatric_patients_hospitalized_confirmed_covid_SD  \\\n",
      "0                                                0.0          \n",
      "1                                                0.0          \n",
      "2                                                0.0          \n",
      "3                                                0.0          \n",
      "4                                                0.0          \n",
      "\n",
      "   inpatient_beds_utilization_SD  inpatient_beds_utilization_numerator_SD  \\\n",
      "0                            0.0                                      0.0   \n",
      "1                            0.0                                      0.0   \n",
      "2                            0.0                                      0.0   \n",
      "3                            0.0                                      0.0   \n",
      "4                            0.0                                      0.0   \n",
      "\n",
      "   inpatient_beds_utilization_denominator_SD  \\\n",
      "0                                        0.0   \n",
      "1                                        0.0   \n",
      "2                                        0.0   \n",
      "3                                        0.0   \n",
      "4                                        0.0   \n",
      "\n",
      "   percent_of_inpatients_with_covid_SD  inpatient_bed_covid_utilization_SD  \\\n",
      "0                                  0.0                                 0.0   \n",
      "1                                  0.0                                 0.0   \n",
      "2                                  0.0                                 0.0   \n",
      "3                                  0.0                                 0.0   \n",
      "4                                  0.0                                 0.0   \n",
      "\n",
      "   adult_icu_bed_covid_utilization_SD  adult_icu_bed_utilization_SD  \n",
      "0                                 0.0                           0.0  \n",
      "1                                 0.0                           0.0  \n",
      "2                                 0.0                           0.0  \n",
      "3                                 0.0                           0.0  \n",
      "4                                 0.0                           0.0  \n",
      "\n",
      "[5 rows x 67 columns]\n"
     ]
    }
   ],
   "source": [
    "df.drop(cols_to_remove,axis=1,inplace=True)\n",
    "# print(df.head())\n",
    "# x=df.isnull().sum()\n",
    "# print(x)\n",
    "# sns.heatmap(df.isnull(),yticklabels=False,cbar=False,cmap='viridis') #heatmap to show missing values in df\n",
    "\n",
    "print(df.head())\n"
   ]
  },
  {
   "cell_type": "markdown",
   "metadata": {},
   "source": [
    "## after removing 40% empty cols "
   ]
  },
  {
   "cell_type": "code",
   "execution_count": 6,
   "metadata": {},
   "outputs": [
    {
     "name": "stdout",
     "output_type": "stream",
     "text": [
      "   countyFIPS  stateFIPS        date  confirmed_cases  deaths  \\\n",
      "0        1001          1  2020-01-22                0       0   \n",
      "1        1003          1  2020-01-22                0       0   \n",
      "2        1005          1  2020-01-22                0       0   \n",
      "3        1007          1  2020-01-22                0       0   \n",
      "4        1009          1  2020-01-22                0       0   \n",
      "\n",
      "   google_mobility_workplaces  apple_mobility_driving  \\\n",
      "0                         NaN                  101.51   \n",
      "1                         NaN                  103.12   \n",
      "2                         NaN                  120.67   \n",
      "3                         NaN                  111.18   \n",
      "4                         NaN                   91.56   \n",
      "\n",
      "   Electricity_Sales_ Revenue_Residential ($ x1000)  \\\n",
      "0                                        670692.302   \n",
      "1                                        670692.302   \n",
      "2                                        670692.302   \n",
      "3                                        670692.302   \n",
      "4                                        670692.302   \n",
      "\n",
      "   Electricity_Sales_ Sales_Residential (MWHr)  \\\n",
      "0                                  5414230.614   \n",
      "1                                  5414230.614   \n",
      "2                                  5414230.614   \n",
      "3                                  5414230.614   \n",
      "4                                  5414230.614   \n",
      "\n",
      "   Electricity_Sales_ Customers_Count_Residential  ...  \\\n",
      "0                                       4585564.0  ...   \n",
      "1                                       4585564.0  ...   \n",
      "2                                       4585564.0  ...   \n",
      "3                                       4585564.0  ...   \n",
      "4                                       4585564.0  ...   \n",
      "\n",
      "   total_adult_patients_hospitalized_confirmed_covid_SD  \\\n",
      "0                                                0.0      \n",
      "1                                                0.0      \n",
      "2                                                0.0      \n",
      "3                                                0.0      \n",
      "4                                                0.0      \n",
      "\n",
      "   total_pediatric_patients_hospitalized_confirmed_and_suspected_covid_SD  \\\n",
      "0                                                0.0                        \n",
      "1                                                0.0                        \n",
      "2                                                0.0                        \n",
      "3                                                0.0                        \n",
      "4                                                0.0                        \n",
      "\n",
      "   total_pediatric_patients_hospitalized_confirmed_covid_SD  \\\n",
      "0                                                0.0          \n",
      "1                                                0.0          \n",
      "2                                                0.0          \n",
      "3                                                0.0          \n",
      "4                                                0.0          \n",
      "\n",
      "   inpatient_beds_utilization_SD  inpatient_beds_utilization_numerator_SD  \\\n",
      "0                            0.0                                      0.0   \n",
      "1                            0.0                                      0.0   \n",
      "2                            0.0                                      0.0   \n",
      "3                            0.0                                      0.0   \n",
      "4                            0.0                                      0.0   \n",
      "\n",
      "   inpatient_beds_utilization_denominator_SD  \\\n",
      "0                                        0.0   \n",
      "1                                        0.0   \n",
      "2                                        0.0   \n",
      "3                                        0.0   \n",
      "4                                        0.0   \n",
      "\n",
      "   percent_of_inpatients_with_covid_SD  inpatient_bed_covid_utilization_SD  \\\n",
      "0                                  0.0                                 0.0   \n",
      "1                                  0.0                                 0.0   \n",
      "2                                  0.0                                 0.0   \n",
      "3                                  0.0                                 0.0   \n",
      "4                                  0.0                                 0.0   \n",
      "\n",
      "   adult_icu_bed_covid_utilization_SD adult_icu_bed_utilization_SD  \n",
      "0                                 0.0                          0.0  \n",
      "1                                 0.0                          0.0  \n",
      "2                                 0.0                          0.0  \n",
      "3                                 0.0                          0.0  \n",
      "4                                 0.0                          0.0  \n",
      "\n",
      "[5 rows x 63 columns]\n"
     ]
    }
   ],
   "source": [
    "missing_cols=df.isnull().sum()/len(df)\n",
    "missing_cols=missing_cols[missing_cols>0.4]\n",
    "missing_cols.sort_values(ascending=False,inplace=True)\n",
    "cols_to_remove=list(missing_cols.index)\n",
    "# print(cols_to_remove)\n",
    "df.drop(cols_to_remove,axis=1,inplace=True)\n",
    "print(df.head())\n",
    "# sns.heatmap(df.isnull(),yticklabels=False,cbar=False,cmap='viridis') #heatmap to show missing values in df\n",
    "\n"
   ]
  },
  {
   "cell_type": "code",
   "execution_count": 17,
   "metadata": {},
   "outputs": [
    {
     "name": "stdout",
     "output_type": "stream",
     "text": [
      "apple_mobility_driving                                                    0.358606\n",
      "google_mobility_workplaces                                                0.290587\n",
      "Electricity_Sales_ Sales_Transportation (MWHr)                            0.162667\n",
      "Electricity_Sales_ Sales_Commercial (MWHr)                                0.162667\n",
      "Electricity_Sales_ Revenue_Residential ($ x1000)                          0.162667\n",
      "Electricity_Sales_ Sales_Residential (MWHr)                               0.162667\n",
      "Electricity_Sales_ Revenue_Commercial ($ x1000)                           0.162667\n",
      "Electricity_Sales_ Customers_Count_Residential                            0.162667\n",
      "Electricity_Sales_ Customers_Count_Commercial                             0.162667\n",
      "Electricity_Sales_ Revenue_Industrial ($ x1000)                           0.162667\n",
      "Electricity_Sales_ Sales_Industrial (MWHr)                                0.162667\n",
      "Electricity_Sales_ Customers_Count_Industrial                             0.162667\n",
      "Electricity_Sales_ Revenue_Transportation ($ x1000)                       0.162667\n",
      "Electricity_Sales_ Customers_Count_Transportation                         0.162667\n",
      "inpatient_beds_SD                                                         0.083561\n",
      "adult_icu_bed_covid_utilization_SD                                        0.083561\n",
      "critical_staffing_shortage_today_yes_SD                                   0.083561\n",
      "critical_staffing_shortage_anticipated_within_week_yes_SD                 0.083561\n",
      "hospital_onset_covid_SD                                                   0.083561\n",
      "adult_icu_bed_utilization_SD                                              0.083561\n",
      "inpatient_beds_coverage_SD                                                0.083561\n",
      "previous_day_admission_adult_covid_confirmed_SD                           0.083561\n",
      "inpatient_bed_covid_utilization_SD                                        0.083561\n",
      "percent_of_inpatients_with_covid_SD                                       0.083561\n",
      "inpatient_beds_utilization_denominator_SD                                 0.083561\n",
      "inpatient_beds_utilization_numerator_SD                                   0.083561\n",
      "inpatient_beds_utilization_SD                                             0.083561\n",
      "total_pediatric_patients_hospitalized_confirmed_covid_SD                  0.083561\n",
      "total_pediatric_patients_hospitalized_confirmed_and_suspected_covid_SD    0.083561\n",
      "total_adult_patients_hospitalized_confirmed_covid_SD                      0.083561\n",
      "total_adult_patients_hospitalized_confirmed_and_suspected_covid_SD        0.083561\n",
      "staffed_icu_adult_patients_confirmed_covid_SD                             0.083561\n",
      "staffed_icu_adult_patients_confirmed_and_suspected_covid_SD               0.083561\n",
      "staffed_adult_icu_bed_occupancy_coverage_SD                               0.083561\n",
      "staffed_adult_icu_bed_occupancy_SD                                        0.083561\n",
      "previous_day_admission_pediatric_covid_suspected_SD                       0.083561\n",
      "previous_day_admission_pediatric_covid_confirmed_SD                       0.083561\n",
      "previous_day_admission_adult_covid_suspected_SD                           0.083561\n",
      "hospital_onset_covid_coverage_SD                                          0.083561\n",
      "C_M_Labour_Force_corr                                                     0.081170\n",
      "C_M_Employed_corr                                                         0.081170\n",
      "C_M_Unemployment_Rate_corr                                                0.081170\n",
      "dtype: float64\n"
     ]
    }
   ],
   "source": [
    "# missing_cols=df.isnull().sum()/len(df)\n",
    "# missing_cols.sort_values(ascending=False,inplace=True)\n",
    "# missing_cols=missing_cols[missing_cols>0.08]\n",
    "# print(missing_cols)\n",
    "# cols_to_check=list(missing_cols.index)\n",
    "# print(df[cols_to_check].head(30))\n"
   ]
  },
  {
   "cell_type": "code",
   "execution_count": 7,
   "metadata": {},
   "outputs": [
    {
     "name": "stdout",
     "output_type": "stream",
     "text": [
      "(1179375, 63)\n"
     ]
    }
   ],
   "source": [
    "print(df.shape)"
   ]
  },
  {
   "cell_type": "markdown",
   "metadata": {},
   "source": [
    "## columns having object and counting number of dots in them"
   ]
  },
  {
   "cell_type": "code",
   "execution_count": 17,
   "metadata": {},
   "outputs": [
    {
     "name": "stdout",
     "output_type": "stream",
     "text": [
      "['date', 'test_count', 'test_rate', 'new_test_rate', 'new_test_count']\n"
     ]
    }
   ],
   "source": [
    "# s = (df.dtypes == 'object')\n",
    "# object_cols = list(s[s].index)\n",
    "# print(object_cols)\n",
    "\n",
    "# print(df['test_count'].head(20))\n",
    "# # a= df['test_count'].str.find(\".\")\n",
    "# print(a.head(50))\n",
    "# print(df['test_count'][0])\n",
    "\n",
    "# print(df['new_test_rate'].value_counts().head(30))\n",
    "# df.to_csv('clean_set.csv')\n",
    "# df['new_test_rate'].to_csv('clean_col1.csv')\n",
    "# x=df['new_test_rate'].value_counts()\n",
    "# x.to_csv('count_dots.csv')"
   ]
  },
  {
   "cell_type": "code",
   "execution_count": 18,
   "metadata": {},
   "outputs": [
    {
     "name": "stdout",
     "output_type": "stream",
     "text": [
      ".         128690\n",
      "0           3593\n",
      "4403        2114\n",
      "2992        1216\n",
      "6912        1150\n",
      "75.6        1046\n",
      "0.517        744\n",
      "9541         569\n",
      "22064        569\n",
      "33028        546\n",
      "144          540\n",
      "100          522\n",
      "38009        507\n",
      "2114         474\n",
      "5068         473\n",
      "0.0698       469\n",
      "951          468\n",
      "11.8         464\n",
      "33820        460\n",
      "4433         438\n",
      "17453        437\n",
      "23940        435\n",
      "410.0        426\n",
      "301.0        419\n",
      "37770        415\n",
      "104          414\n",
      "8962         413\n",
      "538          413\n",
      "10040        410\n",
      "29011        410\n",
      "Name: test_rate, dtype: int64\n"
     ]
    }
   ],
   "source": [
    "print(df['test_rate'].value_counts().head(30))"
   ]
  },
  {
   "cell_type": "markdown",
   "metadata": {},
   "source": [
    "## Removing dot from object columns"
   ]
  },
  {
   "cell_type": "code",
   "execution_count": 8,
   "metadata": {},
   "outputs": [
    {
     "name": "stderr",
     "output_type": "stream",
     "text": [
      "<ipython-input-8-249ff4beab7e>:3: SettingWithCopyWarning: \n",
      "A value is trying to be set on a copy of a slice from a DataFrame\n",
      "\n",
      "See the caveats in the documentation: https://pandas.pydata.org/pandas-docs/stable/user_guide/indexing.html#returning-a-view-versus-a-copy\n",
      "  df['new_test_rate'][i]=0\n",
      "<ipython-input-8-249ff4beab7e>:7: SettingWithCopyWarning: \n",
      "A value is trying to be set on a copy of a slice from a DataFrame\n",
      "\n",
      "See the caveats in the documentation: https://pandas.pydata.org/pandas-docs/stable/user_guide/indexing.html#returning-a-view-versus-a-copy\n",
      "  df['test_rate'][i]=0\n",
      "<ipython-input-8-249ff4beab7e>:11: SettingWithCopyWarning: \n",
      "A value is trying to be set on a copy of a slice from a DataFrame\n",
      "\n",
      "See the caveats in the documentation: https://pandas.pydata.org/pandas-docs/stable/user_guide/indexing.html#returning-a-view-versus-a-copy\n",
      "  df['new_test_count'][i]=0\n",
      "<ipython-input-8-249ff4beab7e>:15: SettingWithCopyWarning: \n",
      "A value is trying to be set on a copy of a slice from a DataFrame\n",
      "\n",
      "See the caveats in the documentation: https://pandas.pydata.org/pandas-docs/stable/user_guide/indexing.html#returning-a-view-versus-a-copy\n",
      "  df['test_count'][i]=0\n"
     ]
    }
   ],
   "source": [
    "\n",
    "for i in range(0,len(df['new_test_rate'])):\n",
    "    if  df['new_test_rate'][i]==\".\":\n",
    "        df['new_test_rate'][i]=0\n",
    "\n",
    "for i in range(0,len(df['test_rate'])):\n",
    "    if  df['test_rate'][i]==\".\":\n",
    "        df['test_rate'][i]=0\n",
    "\n",
    "for i in range(0,len(df['new_test_count'])):\n",
    "    if  df['new_test_count'][i]==\".\":\n",
    "        df['new_test_count'][i]=0\n",
    "\n",
    "for i in range(0,len(df['test_count'])):\n",
    "    if  df['test_count'][i]==\".\":\n",
    "        df['test_count'][i]=0\n",
    "\n",
    "# x1=df['test_rate'].value_counts()\n",
    "# print(x1)\n",
    "# x1.to_csv('count_dots6.csv')\n",
    "\n",
    "# x2=df['new_test_count'].value_counts()\n",
    "# x2.to_csv('count_dots7.csv')\n",
    "\n",
    "# x3=df['test_count'].value_counts()\n",
    "# x3.to_csv('count_dots8.csv')\n",
    "\n",
    "# print(x)\n",
    "# print(df['new_test_rate'].tail(20))"
   ]
  },
  {
   "cell_type": "markdown",
   "metadata": {},
   "source": [
    "## converting objects into float\n"
   ]
  },
  {
   "cell_type": "code",
   "execution_count": 9,
   "metadata": {},
   "outputs": [
    {
     "name": "stdout",
     "output_type": "stream",
     "text": [
      "   countyFIPS  stateFIPS    date  confirmed_cases  deaths  \\\n",
      "0        1001          1  737446                0       0   \n",
      "1        1003          1  737446                0       0   \n",
      "2        1005          1  737446                0       0   \n",
      "3        1007          1  737446                0       0   \n",
      "4        1009          1  737446                0       0   \n",
      "\n",
      "   google_mobility_workplaces  apple_mobility_driving  \\\n",
      "0                         NaN                  101.51   \n",
      "1                         NaN                  103.12   \n",
      "2                         NaN                  120.67   \n",
      "3                         NaN                  111.18   \n",
      "4                         NaN                   91.56   \n",
      "\n",
      "   Electricity_Sales_ Revenue_Residential ($ x1000)  \\\n",
      "0                                        670692.302   \n",
      "1                                        670692.302   \n",
      "2                                        670692.302   \n",
      "3                                        670692.302   \n",
      "4                                        670692.302   \n",
      "\n",
      "   Electricity_Sales_ Sales_Residential (MWHr)  \\\n",
      "0                                  5414230.614   \n",
      "1                                  5414230.614   \n",
      "2                                  5414230.614   \n",
      "3                                  5414230.614   \n",
      "4                                  5414230.614   \n",
      "\n",
      "   Electricity_Sales_ Customers_Count_Residential  ...  \\\n",
      "0                                       4585564.0  ...   \n",
      "1                                       4585564.0  ...   \n",
      "2                                       4585564.0  ...   \n",
      "3                                       4585564.0  ...   \n",
      "4                                       4585564.0  ...   \n",
      "\n",
      "   total_adult_patients_hospitalized_confirmed_covid_SD  \\\n",
      "0                                                0.0      \n",
      "1                                                0.0      \n",
      "2                                                0.0      \n",
      "3                                                0.0      \n",
      "4                                                0.0      \n",
      "\n",
      "   total_pediatric_patients_hospitalized_confirmed_and_suspected_covid_SD  \\\n",
      "0                                                0.0                        \n",
      "1                                                0.0                        \n",
      "2                                                0.0                        \n",
      "3                                                0.0                        \n",
      "4                                                0.0                        \n",
      "\n",
      "   total_pediatric_patients_hospitalized_confirmed_covid_SD  \\\n",
      "0                                                0.0          \n",
      "1                                                0.0          \n",
      "2                                                0.0          \n",
      "3                                                0.0          \n",
      "4                                                0.0          \n",
      "\n",
      "   inpatient_beds_utilization_SD  inpatient_beds_utilization_numerator_SD  \\\n",
      "0                            0.0                                      0.0   \n",
      "1                            0.0                                      0.0   \n",
      "2                            0.0                                      0.0   \n",
      "3                            0.0                                      0.0   \n",
      "4                            0.0                                      0.0   \n",
      "\n",
      "   inpatient_beds_utilization_denominator_SD  \\\n",
      "0                                        0.0   \n",
      "1                                        0.0   \n",
      "2                                        0.0   \n",
      "3                                        0.0   \n",
      "4                                        0.0   \n",
      "\n",
      "   percent_of_inpatients_with_covid_SD  inpatient_bed_covid_utilization_SD  \\\n",
      "0                                  0.0                                 0.0   \n",
      "1                                  0.0                                 0.0   \n",
      "2                                  0.0                                 0.0   \n",
      "3                                  0.0                                 0.0   \n",
      "4                                  0.0                                 0.0   \n",
      "\n",
      "   adult_icu_bed_covid_utilization_SD  adult_icu_bed_utilization_SD  \n",
      "0                                 0.0                           0.0  \n",
      "1                                 0.0                           0.0  \n",
      "2                                 0.0                           0.0  \n",
      "3                                 0.0                           0.0  \n",
      "4                                 0.0                           0.0  \n",
      "\n",
      "[5 rows x 63 columns]\n"
     ]
    }
   ],
   "source": [
    "## converting objects into float\n",
    "\n",
    "\n",
    "df['test_rate']=df['test_rate'].astype(float)\n",
    "df['new_test_count']=df['new_test_count'].astype(float)\n",
    "df['test_count']=df['test_count'].astype(float)\n",
    "df['new_test_rate']=df['new_test_rate'].astype(float)\n",
    "\n",
    "\n",
    "\n",
    "# print(df.info())\n",
    "# s = (df.dtypes == 'object')\n",
    "# object_cols = list(s[s].index)\n",
    "# print(object_cols)\n",
    "# # df.dtypes.to_csv('data_type_col.csv')\n",
    "\n",
    "# parsing dates\n",
    "\n",
    "\n",
    "df['date']=pd.to_datetime(df['date'],format=\"%Y/%m/%d\")\n",
    "# df.date.dtype\n",
    "df['date']=df['date'].map(dt.datetime.toordinal)\n",
    "print(df.head())\n",
    "\n",
    "# sns.heatmap(df.isnull(),yticklabels=False,cbar=False,cmap='viridis') #heatmap to show missing values in df\n",
    "\n"
   ]
  },
  {
   "cell_type": "code",
   "execution_count": 12,
   "metadata": {},
   "outputs": [],
   "source": [
    "# print(df.shape)\n",
    "df.to_csv('cleaned_final_covid_data.csv')"
   ]
  },
  {
   "cell_type": "code",
   "execution_count": 25,
   "metadata": {},
   "outputs": [
    {
     "name": "stdout",
     "output_type": "stream",
     "text": [
      "   countyFIPS  stateFIPS    date  confirmed_cases  deaths  \\\n",
      "0        1001          1  737446                0       0   \n",
      "1        1003          1  737446                0       0   \n",
      "2        1005          1  737446                0       0   \n",
      "3        1007          1  737446                0       0   \n",
      "4        1009          1  737446                0       0   \n",
      "\n",
      "   google_mobility_workplaces  apple_mobility_driving  \\\n",
      "0                         NaN                  101.51   \n",
      "1                         NaN                  103.12   \n",
      "2                         NaN                  120.67   \n",
      "3                         NaN                  111.18   \n",
      "4                         NaN                   91.56   \n",
      "\n",
      "   Electricity_Sales_ Revenue_Residential ($ x1000)  \\\n",
      "0                                        670692.302   \n",
      "1                                        670692.302   \n",
      "2                                        670692.302   \n",
      "3                                        670692.302   \n",
      "4                                        670692.302   \n",
      "\n",
      "   Electricity_Sales_ Sales_Residential (MWHr)  \\\n",
      "0                                  5414230.614   \n",
      "1                                  5414230.614   \n",
      "2                                  5414230.614   \n",
      "3                                  5414230.614   \n",
      "4                                  5414230.614   \n",
      "\n",
      "   Electricity_Sales_ Customers_Count_Residential  ...  \\\n",
      "0                                       4585564.0  ...   \n",
      "1                                       4585564.0  ...   \n",
      "2                                       4585564.0  ...   \n",
      "3                                       4585564.0  ...   \n",
      "4                                       4585564.0  ...   \n",
      "\n",
      "   total_adult_patients_hospitalized_confirmed_covid_SD  \\\n",
      "0                                                0.0      \n",
      "1                                                0.0      \n",
      "2                                                0.0      \n",
      "3                                                0.0      \n",
      "4                                                0.0      \n",
      "\n",
      "   total_pediatric_patients_hospitalized_confirmed_and_suspected_covid_SD  \\\n",
      "0                                                0.0                        \n",
      "1                                                0.0                        \n",
      "2                                                0.0                        \n",
      "3                                                0.0                        \n",
      "4                                                0.0                        \n",
      "\n",
      "   total_pediatric_patients_hospitalized_confirmed_covid_SD  \\\n",
      "0                                                0.0          \n",
      "1                                                0.0          \n",
      "2                                                0.0          \n",
      "3                                                0.0          \n",
      "4                                                0.0          \n",
      "\n",
      "   inpatient_beds_utilization_SD  inpatient_beds_utilization_numerator_SD  \\\n",
      "0                            0.0                                      0.0   \n",
      "1                            0.0                                      0.0   \n",
      "2                            0.0                                      0.0   \n",
      "3                            0.0                                      0.0   \n",
      "4                            0.0                                      0.0   \n",
      "\n",
      "   inpatient_beds_utilization_denominator_SD  \\\n",
      "0                                        0.0   \n",
      "1                                        0.0   \n",
      "2                                        0.0   \n",
      "3                                        0.0   \n",
      "4                                        0.0   \n",
      "\n",
      "   percent_of_inpatients_with_covid_SD  inpatient_bed_covid_utilization_SD  \\\n",
      "0                                  0.0                                 0.0   \n",
      "1                                  0.0                                 0.0   \n",
      "2                                  0.0                                 0.0   \n",
      "3                                  0.0                                 0.0   \n",
      "4                                  0.0                                 0.0   \n",
      "\n",
      "   adult_icu_bed_covid_utilization_SD  adult_icu_bed_utilization_SD  \n",
      "0                                 0.0                           0.0  \n",
      "1                                 0.0                           0.0  \n",
      "2                                 0.0                           0.0  \n",
      "3                                 0.0                           0.0  \n",
      "4                                 0.0                           0.0  \n",
      "\n",
      "[5 rows x 63 columns]\n"
     ]
    }
   ],
   "source": [
    "## importing covid file with removed columns,dots and parsed dates\n",
    "# df = pd.read_csv('cleaned_final_covid_data.csv')\n",
    "# df.drop(df.columns[[0]],axis=1,inplace=True)\n",
    "# print(df.head())"
   ]
  },
  {
   "cell_type": "markdown",
   "metadata": {},
   "source": [
    "## splitting dataset for random forest regression"
   ]
  },
  {
   "cell_type": "code",
   "execution_count": 26,
   "metadata": {},
   "outputs": [],
   "source": [
    "##splitting dataset\n",
    "\n",
    "y=df['confirmed_cases']\n",
    "\n",
    "predictors= df.drop(['confirmed_cases','countyFIPS','stateFIPS'], axis=1)\n",
    "\n",
    "# print(y.head())\n",
    "# print(predictors.head())\n",
    "\n",
    "from sklearn.model_selection import train_test_split\n",
    "X_train, X_valid, y_train, y_valid = train_test_split(predictors, y, train_size=0.8, test_size=0.2,random_state=0)\n",
    "\n",
    "# print(X_train.head())"
   ]
  },
  {
   "cell_type": "markdown",
   "metadata": {},
   "source": [
    "## with death removed"
   ]
  },
  {
   "cell_type": "code",
   "execution_count": 32,
   "metadata": {},
   "outputs": [
    {
     "name": "stdout",
     "output_type": "stream",
     "text": [
      "   countyFIPS  stateFIPS    date  confirmed_cases  deaths  \\\n",
      "0        1001          1  737446                0       0   \n",
      "1        1003          1  737446                0       0   \n",
      "2        1005          1  737446                0       0   \n",
      "3        1007          1  737446                0       0   \n",
      "4        1009          1  737446                0       0   \n",
      "\n",
      "   google_mobility_workplaces  apple_mobility_driving  \\\n",
      "0                         NaN                  101.51   \n",
      "1                         NaN                  103.12   \n",
      "2                         NaN                  120.67   \n",
      "3                         NaN                  111.18   \n",
      "4                         NaN                   91.56   \n",
      "\n",
      "   Electricity_Sales_ Revenue_Residential ($ x1000)  \\\n",
      "0                                        670692.302   \n",
      "1                                        670692.302   \n",
      "2                                        670692.302   \n",
      "3                                        670692.302   \n",
      "4                                        670692.302   \n",
      "\n",
      "   Electricity_Sales_ Sales_Residential (MWHr)  \\\n",
      "0                                  5414230.614   \n",
      "1                                  5414230.614   \n",
      "2                                  5414230.614   \n",
      "3                                  5414230.614   \n",
      "4                                  5414230.614   \n",
      "\n",
      "   Electricity_Sales_ Customers_Count_Residential  ...  \\\n",
      "0                                       4585564.0  ...   \n",
      "1                                       4585564.0  ...   \n",
      "2                                       4585564.0  ...   \n",
      "3                                       4585564.0  ...   \n",
      "4                                       4585564.0  ...   \n",
      "\n",
      "   total_adult_patients_hospitalized_confirmed_covid_SD  \\\n",
      "0                                                0.0      \n",
      "1                                                0.0      \n",
      "2                                                0.0      \n",
      "3                                                0.0      \n",
      "4                                                0.0      \n",
      "\n",
      "   total_pediatric_patients_hospitalized_confirmed_and_suspected_covid_SD  \\\n",
      "0                                                0.0                        \n",
      "1                                                0.0                        \n",
      "2                                                0.0                        \n",
      "3                                                0.0                        \n",
      "4                                                0.0                        \n",
      "\n",
      "   total_pediatric_patients_hospitalized_confirmed_covid_SD  \\\n",
      "0                                                0.0          \n",
      "1                                                0.0          \n",
      "2                                                0.0          \n",
      "3                                                0.0          \n",
      "4                                                0.0          \n",
      "\n",
      "   inpatient_beds_utilization_SD  inpatient_beds_utilization_numerator_SD  \\\n",
      "0                            0.0                                      0.0   \n",
      "1                            0.0                                      0.0   \n",
      "2                            0.0                                      0.0   \n",
      "3                            0.0                                      0.0   \n",
      "4                            0.0                                      0.0   \n",
      "\n",
      "   inpatient_beds_utilization_denominator_SD  \\\n",
      "0                                        0.0   \n",
      "1                                        0.0   \n",
      "2                                        0.0   \n",
      "3                                        0.0   \n",
      "4                                        0.0   \n",
      "\n",
      "   percent_of_inpatients_with_covid_SD  inpatient_bed_covid_utilization_SD  \\\n",
      "0                                  0.0                                 0.0   \n",
      "1                                  0.0                                 0.0   \n",
      "2                                  0.0                                 0.0   \n",
      "3                                  0.0                                 0.0   \n",
      "4                                  0.0                                 0.0   \n",
      "\n",
      "   adult_icu_bed_covid_utilization_SD  adult_icu_bed_utilization_SD  \n",
      "0                                 0.0                           0.0  \n",
      "1                                 0.0                           0.0  \n",
      "2                                 0.0                           0.0  \n",
      "3                                 0.0                           0.0  \n",
      "4                                 0.0                           0.0  \n",
      "\n",
      "[5 rows x 63 columns]\n"
     ]
    }
   ],
   "source": [
    "# print(df.info())\n",
    "#parsing dates\n",
    "\n",
    "\n",
    "# df['date']=pd.to_datetime(df['date'],format=\"%Y/%m/%d\")\n",
    "# # df.date.dtype\n",
    "# df['date']=df['date'].map(dt.datetime.toordinal)\n",
    "# print(df.head())\n"
   ]
  },
  {
   "cell_type": "code",
   "execution_count": 36,
   "metadata": {},
   "outputs": [
    {
     "name": "stdout",
     "output_type": "stream",
     "text": [
      "           date  google_mobility_workplaces  apple_mobility_driving  \\\n",
      "877970   737725                       -15.0                  138.71   \n",
      "807190   737702                       -12.0                  108.60   \n",
      "81733    737471                        -1.0                  121.86   \n",
      "1155211  737813                         5.0                  157.32   \n",
      "98094    737477                         NaN                  149.47   \n",
      "\n",
      "         Electricity_Sales_ Revenue_Residential ($ x1000)  \\\n",
      "877970                                         965189.172   \n",
      "807190                                         904464.076   \n",
      "81733                                          532860.718   \n",
      "1155211                                               NaN   \n",
      "98094                                          934825.546   \n",
      "\n",
      "         Electricity_Sales_ Sales_Residential (MWHr)  \\\n",
      "877970                                   8022464.584   \n",
      "807190                                   6953491.100   \n",
      "81733                                    3622284.668   \n",
      "1155211                                          NaN   \n",
      "98094                                    7310649.394   \n",
      "\n",
      "         Electricity_Sales_ Customers_Count_Residential  \\\n",
      "877970                                        9013510.0   \n",
      "807190                                       10006146.0   \n",
      "81733                                         5512226.0   \n",
      "1155211                                             NaN   \n",
      "98094                                        10717808.0   \n",
      "\n",
      "         Electricity_Sales_ Revenue_Commercial ($ x1000)  \\\n",
      "877970                                        747085.028   \n",
      "807190                                        707108.078   \n",
      "81733                                         408058.022   \n",
      "1155211                                              NaN   \n",
      "98094                                         679735.028   \n",
      "\n",
      "         Electricity_Sales_ Sales_Commercial (MWHr)  \\\n",
      "877970                                  7371715.462   \n",
      "807190                                  7196515.270   \n",
      "81733                                   3760053.658   \n",
      "1155211                                         NaN   \n",
      "98094                                   7886865.694   \n",
      "\n",
      "         Electricity_Sales_ Customers_Count_Commercial  \\\n",
      "877970                                       1179178.0   \n",
      "807190                                       1274496.0   \n",
      "81733                                         723628.0   \n",
      "1155211                                            NaN   \n",
      "98094                                        1252520.0   \n",
      "\n",
      "         Electricity_Sales_ Revenue_Industrial ($ x1000)  ...  \\\n",
      "877970                                        295329.436  ...   \n",
      "807190                                        512104.432  ...   \n",
      "81733                                         277340.834  ...   \n",
      "1155211                                              NaN  ...   \n",
      "98094                                         431819.622  ...   \n",
      "\n",
      "         total_adult_patients_hospitalized_confirmed_covid_SD  \\\n",
      "877970                                              1430.0      \n",
      "807190                                               719.0      \n",
      "81733                                                  NaN      \n",
      "1155211                                             1515.0      \n",
      "98094                                                  0.0      \n",
      "\n",
      "         total_pediatric_patients_hospitalized_confirmed_and_suspected_covid_SD  \\\n",
      "877970                                               107.0                        \n",
      "807190                                                35.0                        \n",
      "81733                                                  NaN                        \n",
      "1155211                                               12.0                        \n",
      "98094                                                  0.0                        \n",
      "\n",
      "         total_pediatric_patients_hospitalized_confirmed_covid_SD  \\\n",
      "877970                                                15.0          \n",
      "807190                                                10.0          \n",
      "81733                                                  NaN          \n",
      "1155211                                                2.0          \n",
      "98094                                                  0.0          \n",
      "\n",
      "         inpatient_beds_utilization_SD  \\\n",
      "877970                        0.750953   \n",
      "807190                        0.658634   \n",
      "81733                              NaN   \n",
      "1155211                       0.622095   \n",
      "98094                         0.388889   \n",
      "\n",
      "         inpatient_beds_utilization_numerator_SD  \\\n",
      "877970                                   16150.0   \n",
      "807190                                   20116.0   \n",
      "81733                                        NaN   \n",
      "1155211                                   8993.0   \n",
      "98094                                       14.0   \n",
      "\n",
      "         inpatient_beds_utilization_denominator_SD  \\\n",
      "877970                                     21506.0   \n",
      "807190                                     30542.0   \n",
      "81733                                          NaN   \n",
      "1155211                                    14456.0   \n",
      "98094                                         36.0   \n",
      "\n",
      "         percent_of_inpatients_with_covid_SD  \\\n",
      "877970                              0.118540   \n",
      "807190                              0.063731   \n",
      "81733                                    NaN   \n",
      "1155211                             0.184817   \n",
      "98094                               0.000000   \n",
      "\n",
      "         inpatient_bed_covid_utilization_SD  \\\n",
      "877970                             0.089096   \n",
      "807190                             0.042029   \n",
      "81733                                   NaN   \n",
      "1155211                            0.114630   \n",
      "98094                              0.000000   \n",
      "\n",
      "         adult_icu_bed_covid_utilization_SD  adult_icu_bed_utilization_SD  \n",
      "877970                             0.185590                      0.810491  \n",
      "807190                             0.081937                      0.675271  \n",
      "81733                                   NaN                           NaN  \n",
      "1155211                            0.207147                      0.690049  \n",
      "98094                              0.000000                      0.000000  \n",
      "\n",
      "[5 rows x 59 columns]\n"
     ]
    }
   ],
   "source": [
    "# y=df['confirmed_cases']\n",
    "\n",
    "# predictors= df.drop(['confirmed_cases','countyFIPS','stateFIPS','deaths'], axis=1)\n",
    "\n",
    "# print(y.head())\n",
    "# print(X_train.head())\n",
    "# print(predictors.head())\n",
    "\n",
    "# from sklearn.model_selection import train_test_split\n",
    "# X_train, X_valid, y_train, y_valid = train_test_split(predictors, y, train_size=0.8, test_size=0.2,random_state=0)"
   ]
  },
  {
   "cell_type": "code",
   "execution_count": 27,
   "metadata": {},
   "outputs": [
    {
     "name": "stdout",
     "output_type": "stream",
     "text": [
      "                                                  0\n",
      "0                                              date\n",
      "1                                            deaths\n",
      "2                        google_mobility_workplaces\n",
      "3                            apple_mobility_driving\n",
      "4  Electricity_Sales_ Revenue_Residential ($ x1000)\n"
     ]
    }
   ],
   "source": [
    "# # c=X_train.columns\n",
    "# c=list(c)\n",
    "# c= pd.DataFrame(c)\n",
    "print(c.head())\n",
    "# c.to_csv('cols_in_training.csv')"
   ]
  },
  {
   "cell_type": "markdown",
   "metadata": {},
   "source": [
    "## Imputation for rfr"
   ]
  },
  {
   "cell_type": "code",
   "execution_count": 27,
   "metadata": {},
   "outputs": [],
   "source": [
    "## Imputation\n",
    "\n",
    "from sklearn.impute import SimpleImputer\n",
    "\n",
    "my_imputer = SimpleImputer()\n",
    "imputed_X_train = pd.DataFrame(my_imputer.fit_transform(X_train))\n",
    "imputed_X_valid = pd.DataFrame(my_imputer.transform(X_valid))\n",
    "\n",
    "# Imputation removed column names; put them back\n",
    "imputed_X_train.columns = X_train.columns\n",
    "imputed_X_valid.columns = X_valid.columns\n",
    "\n",
    "# print(imputed_X_valid.head())\n",
    "# print(score_dataset(imputed_X_train, imputed_X_valid, y_train, y_valid))"
   ]
  },
  {
   "cell_type": "markdown",
   "metadata": {},
   "source": [
    "## imputation for rfr without deaths"
   ]
  },
  {
   "cell_type": "code",
   "execution_count": 37,
   "metadata": {},
   "outputs": [],
   "source": [
    "## Imputation\n",
    "\n",
    "from sklearn.impute import SimpleImputer\n",
    "\n",
    "my_imputer = SimpleImputer()\n",
    "imputed_X_train = pd.DataFrame(my_imputer.fit_transform(X_train))\n",
    "imputed_X_valid = pd.DataFrame(my_imputer.transform(X_valid))\n",
    "\n",
    "# Imputation removed column names; put them back\n",
    "imputed_X_train.columns = X_train.columns\n",
    "imputed_X_valid.columns = X_valid.columns\n",
    "\n",
    "# print(imputed_X_valid.head())\n",
    "# print(score_dataset(imputed_X_train, imputed_X_valid, y_train, y_valid))"
   ]
  },
  {
   "cell_type": "code",
   "execution_count": 28,
   "metadata": {},
   "outputs": [
    {
     "name": "stdout",
     "output_type": "stream",
     "text": [
      "date                                                                      0\n",
      "deaths                                                                    0\n",
      "google_mobility_workplaces                                                0\n",
      "apple_mobility_driving                                                    0\n",
      "Electricity_Sales_ Revenue_Residential ($ x1000)                          0\n",
      "Electricity_Sales_ Sales_Residential (MWHr)                               0\n",
      "Electricity_Sales_ Customers_Count_Residential                            0\n",
      "Electricity_Sales_ Revenue_Commercial ($ x1000)                           0\n",
      "Electricity_Sales_ Sales_Commercial (MWHr)                                0\n",
      "Electricity_Sales_ Customers_Count_Commercial                             0\n",
      "Electricity_Sales_ Revenue_Industrial ($ x1000)                           0\n",
      "Electricity_Sales_ Sales_Industrial (MWHr)                                0\n",
      "Electricity_Sales_ Customers_Count_Industrial                             0\n",
      "Electricity_Sales_ Revenue_Transportation ($ x1000)                       0\n",
      "Electricity_Sales_ Sales_Transportation (MWHr)                            0\n",
      "Electricity_Sales_ Customers_Count_Transportation                         0\n",
      "test_count                                                                0\n",
      "test_rate                                                                 0\n",
      "new_test_rate                                                             0\n",
      "new_test_count                                                            0\n",
      "C_PCTPOVALL_2019                                                          0\n",
      "C_PCTPOV017_2019                                                          0\n",
      "C_PCTPOV517_2019                                                          0\n",
      "C_MEDHHINC_2019                                                           0\n",
      "C_TOT_POP                                                                 0\n",
      "C_TOT_MALE                                                                0\n",
      "C_TOT_FEMALE                                                              0\n",
      "C_WA_MALE                                                                 0\n",
      "C_WA_FEMALE                                                               0\n",
      "C_MinorityPCT                                                             0\n",
      "C_BlackPCT                                                                0\n",
      "C_HispanicPCT                                                             0\n",
      "C_M_Labour_Force_corr                                                     0\n",
      "C_M_Employed_corr                                                         0\n",
      "C_M_Unemployment_Rate_corr                                                0\n",
      "critical_staffing_shortage_today_yes_SD                                   0\n",
      "critical_staffing_shortage_anticipated_within_week_yes_SD                 0\n",
      "hospital_onset_covid_SD                                                   0\n",
      "hospital_onset_covid_coverage_SD                                          0\n",
      "inpatient_beds_SD                                                         0\n",
      "inpatient_beds_coverage_SD                                                0\n",
      "previous_day_admission_adult_covid_confirmed_SD                           0\n",
      "previous_day_admission_adult_covid_suspected_SD                           0\n",
      "previous_day_admission_pediatric_covid_confirmed_SD                       0\n",
      "previous_day_admission_pediatric_covid_suspected_SD                       0\n",
      "staffed_adult_icu_bed_occupancy_SD                                        0\n",
      "staffed_adult_icu_bed_occupancy_coverage_SD                               0\n",
      "staffed_icu_adult_patients_confirmed_and_suspected_covid_SD               0\n",
      "staffed_icu_adult_patients_confirmed_covid_SD                             0\n",
      "total_adult_patients_hospitalized_confirmed_and_suspected_covid_SD        0\n",
      "total_adult_patients_hospitalized_confirmed_covid_SD                      0\n",
      "total_pediatric_patients_hospitalized_confirmed_and_suspected_covid_SD    0\n",
      "total_pediatric_patients_hospitalized_confirmed_covid_SD                  0\n",
      "inpatient_beds_utilization_SD                                             0\n",
      "inpatient_beds_utilization_numerator_SD                                   0\n",
      "inpatient_beds_utilization_denominator_SD                                 0\n",
      "percent_of_inpatients_with_covid_SD                                       0\n",
      "inpatient_bed_covid_utilization_SD                                        0\n",
      "adult_icu_bed_covid_utilization_SD                                        0\n",
      "adult_icu_bed_utilization_SD                                              0\n",
      "dtype: int64\n"
     ]
    }
   ],
   "source": [
    "print(imputed_X_valid.isnull().sum())"
   ]
  },
  {
   "cell_type": "code",
   "execution_count": 46,
   "metadata": {},
   "outputs": [
    {
     "name": "stdout",
     "output_type": "stream",
     "text": [
      "235875\n"
     ]
    }
   ],
   "source": [
    "print(len(y_valid))"
   ]
  },
  {
   "cell_type": "code",
   "execution_count": 54,
   "metadata": {},
   "outputs": [
    {
     "ename": "NameError",
     "evalue": "name 'power' is not defined",
     "output_type": "error",
     "traceback": [
      "\u001b[1;31m---------------------------------------------------------------------------\u001b[0m",
      "\u001b[1;31mNameError\u001b[0m                                 Traceback (most recent call last)",
      "\u001b[1;32m<ipython-input-54-0a2f398578c6>\u001b[0m in \u001b[0;36m<module>\u001b[1;34m\u001b[0m\n\u001b[1;32m----> 1\u001b[1;33m \u001b[0mprint\u001b[0m\u001b[1;33m(\u001b[0m\u001b[0mpower\u001b[0m\u001b[1;33m(\u001b[0m\u001b[1;36m4\u001b[0m\u001b[1;33m,\u001b[0m\u001b[1;36m0.5\u001b[0m\u001b[1;33m)\u001b[0m\u001b[1;33m)\u001b[0m\u001b[1;33m\u001b[0m\u001b[1;33m\u001b[0m\u001b[0m\n\u001b[0m",
      "\u001b[1;31mNameError\u001b[0m: name 'power' is not defined"
     ]
    }
   ],
   "source": []
  },
  {
   "cell_type": "markdown",
   "metadata": {},
   "source": [
    "# Important functions"
   ]
  },
  {
   "cell_type": "code",
   "execution_count": 29,
   "metadata": {},
   "outputs": [],
   "source": [
    "from sklearn.ensemble import RandomForestRegressor\n",
    "from sklearn.metrics import mean_absolute_error\n",
    "from sklearn.metrics import mean_squared_error\n",
    "import math\n",
    "\n",
    "\n",
    "# Function for comparing different approaches\n",
    "def score_dataset(X_train, X_valid, y_train, y_valid):\n",
    "    model = RandomForestRegressor(n_estimators=10, random_state=0)\n",
    "    model.fit(X_train, y_train)\n",
    "    preds = model.predict(X_valid)\n",
    "    r2_e= model.score(X_valid, y_valid)\n",
    "    mse=mean_squared_error(y_valid, preds)\n",
    "    rmse=math.sqrt(mse)\n",
    "    return mean_absolute_error(y_valid, preds), r2_e, mse, rmse"
   ]
  },
  {
   "cell_type": "markdown",
   "metadata": {},
   "source": [
    "## Checking score\n"
   ]
  },
  {
   "cell_type": "code",
   "execution_count": 30,
   "metadata": {},
   "outputs": [
    {
     "name": "stdout",
     "output_type": "stream",
     "text": [
      "(42.379080021197666, 0.9994578374129979, 75463.52424483307, 274.7062508295599)\n"
     ]
    }
   ],
   "source": [
    "print(score_dataset(imputed_X_train, imputed_X_valid, y_train, y_valid))\n",
    "\n"
   ]
  },
  {
   "cell_type": "code",
   "execution_count": 40,
   "metadata": {},
   "outputs": [
    {
     "name": "stdout",
     "output_type": "stream",
     "text": [
      "(43.6165312135665, 0.9958565712728376, 576723.1854524218, 759.4229292379983)\n"
     ]
    }
   ],
   "source": [
    "## without death\n",
    "print(score_dataset(imputed_X_train, imputed_X_valid, y_train, y_valid))"
   ]
  },
  {
   "cell_type": "code",
   "execution_count": 41,
   "metadata": {},
   "outputs": [
    {
     "name": "stdout",
     "output_type": "stream",
     "text": [
      "       date  google_mobility_workplaces  apple_mobility_driving  \\\n",
      "0  737725.0                  -15.000000                  138.71   \n",
      "1  737702.0                  -12.000000                  108.60   \n",
      "2  737471.0                   -1.000000                  121.86   \n",
      "3  737813.0                    5.000000                  157.32   \n",
      "4  737477.0                  -23.159065                  149.47   \n",
      "\n",
      "   Electricity_Sales_ Revenue_Residential ($ x1000)  \\\n",
      "0                                     965189.172000   \n",
      "1                                     904464.076000   \n",
      "2                                     532860.718000   \n",
      "3                                     898020.548639   \n",
      "4                                     934825.546000   \n",
      "\n",
      "   Electricity_Sales_ Sales_Residential (MWHr)  \\\n",
      "0                                 8.022465e+06   \n",
      "1                                 6.953491e+06   \n",
      "2                                 3.622285e+06   \n",
      "3                                 7.118095e+06   \n",
      "4                                 7.310649e+06   \n",
      "\n",
      "   Electricity_Sales_ Customers_Count_Residential  \\\n",
      "0                                    9.013510e+06   \n",
      "1                                    1.000615e+07   \n",
      "2                                    5.512226e+06   \n",
      "3                                    7.440746e+06   \n",
      "4                                    1.071781e+07   \n",
      "\n",
      "   Electricity_Sales_ Revenue_Commercial ($ x1000)  \\\n",
      "0                                    747085.028000   \n",
      "1                                    707108.078000   \n",
      "2                                    408058.022000   \n",
      "3                                    600097.700285   \n",
      "4                                    679735.028000   \n",
      "\n",
      "   Electricity_Sales_ Sales_Commercial (MWHr)  \\\n",
      "0                                7.371715e+06   \n",
      "1                                7.196515e+06   \n",
      "2                                3.760054e+06   \n",
      "3                                6.212346e+06   \n",
      "4                                7.886866e+06   \n",
      "\n",
      "   Electricity_Sales_ Customers_Count_Commercial  \\\n",
      "0                                   1.179178e+06   \n",
      "1                                   1.274496e+06   \n",
      "2                                   7.236280e+05   \n",
      "3                                   1.011438e+06   \n",
      "4                                   1.252520e+06   \n",
      "\n",
      "   Electricity_Sales_ Revenue_Industrial ($ x1000)  ...  \\\n",
      "0                                     295329.43600  ...   \n",
      "1                                     512104.43200  ...   \n",
      "2                                     277340.83400  ...   \n",
      "3                                     295343.54871  ...   \n",
      "4                                     431819.62200  ...   \n",
      "\n",
      "   total_adult_patients_hospitalized_confirmed_covid_SD  \\\n",
      "0                                        1430.000000      \n",
      "1                                         719.000000      \n",
      "2                                        1098.742781      \n",
      "3                                        1515.000000      \n",
      "4                                           0.000000      \n",
      "\n",
      "   total_pediatric_patients_hospitalized_confirmed_and_suspected_covid_SD  \\\n",
      "0                                         107.000000                        \n",
      "1                                          35.000000                        \n",
      "2                                          23.329522                        \n",
      "3                                          12.000000                        \n",
      "4                                           0.000000                        \n",
      "\n",
      "   total_pediatric_patients_hospitalized_confirmed_covid_SD  \\\n",
      "0                                          15.000000          \n",
      "1                                          10.000000          \n",
      "2                                          12.012105          \n",
      "3                                           2.000000          \n",
      "4                                           0.000000          \n",
      "\n",
      "   inpatient_beds_utilization_SD  inpatient_beds_utilization_numerator_SD  \\\n",
      "0                       0.750953                             16150.000000   \n",
      "1                       0.658634                             20116.000000   \n",
      "2                       0.624873                             11250.842121   \n",
      "3                       0.622095                              8993.000000   \n",
      "4                       0.388889                                14.000000   \n",
      "\n",
      "   inpatient_beds_utilization_denominator_SD  \\\n",
      "0                               21506.000000   \n",
      "1                               30542.000000   \n",
      "2                               16614.535283   \n",
      "3                               14456.000000   \n",
      "4                                  36.000000   \n",
      "\n",
      "   percent_of_inpatients_with_covid_SD  inpatient_bed_covid_utilization_SD  \\\n",
      "0                             0.118540                            0.089096   \n",
      "1                             0.063731                            0.042029   \n",
      "2                             0.119781                            0.078721   \n",
      "3                             0.184817                            0.114630   \n",
      "4                             0.000000                            0.000000   \n",
      "\n",
      "   adult_icu_bed_covid_utilization_SD  adult_icu_bed_utilization_SD  \n",
      "0                            0.185590                      0.810491  \n",
      "1                            0.081937                      0.675271  \n",
      "2                            0.129059                      0.423654  \n",
      "3                            0.207147                      0.690049  \n",
      "4                            0.000000                      0.000000  \n",
      "\n",
      "[5 rows x 59 columns]\n"
     ]
    }
   ],
   "source": []
  },
  {
   "cell_type": "code",
   "execution_count": 42,
   "metadata": {},
   "outputs": [],
   "source": [
    "df2 = pd.read_csv('valid_covid.csv')"
   ]
  },
  {
   "cell_type": "code",
   "execution_count": 49,
   "metadata": {},
   "outputs": [],
   "source": [
    "# print(df2.head())\n",
    "# print(df2.isnull().sum())\n",
    "# from sklearn.ensemble import RandomForestRegressor\n",
    "# from sklearn.metrics import mean_absolute_error\n",
    "# from sklearn.metrics import mean_squared_error\n",
    "# import math\n",
    "\n",
    "# model = RandomForestRegressor(n_estimators=10, random_state=0)\n",
    "# model.fit(imputed_X_train, y_train)\n",
    "# preds = model.predict(df2)\n",
    "# Prediction=list(preds)\n",
    "# d= pd.DataFrame(Prediction)\n",
    "# print(d.head())\n",
    "d.to_csv('prediction_on_valid_covid.csv')\n"
   ]
  },
  {
   "cell_type": "markdown",
   "metadata": {},
   "source": [
    "## Training the Multiple Linear Regression model on the Training set"
   ]
  },
  {
   "cell_type": "code",
   "execution_count": 35,
   "metadata": {},
   "outputs": [
    {
     "name": "stdout",
     "output_type": "stream",
     "text": [
      "0.7839184784402472 30076352.614538483 5484.191154084482 1630.3976139448616\n"
     ]
    }
   ],
   "source": [
    "\n",
    "\n",
    "# from sklearn.linear_model import LinearRegression\n",
    "# regressor = LinearRegression()\n",
    "# regressor.fit(imputed_X_train, y_train)\n",
    "# pred = regressor.predict(imputed_X_valid)\n",
    "\n",
    "# r2_e= regressor.score(imputed_X_valid, y_valid)\n",
    "# mse=mean_squared_error(y_valid, pred)\n",
    "# rmse=math.sqrt(mse)\n",
    "# mae=mean_absolute_error(y_valid, pred)\n",
    "# print(r2_e,mse,rmse,mae)\n",
    "\n",
    "\n"
   ]
  },
  {
   "cell_type": "code",
   "execution_count": 62,
   "metadata": {},
   "outputs": [
    {
     "name": "stdout",
     "output_type": "stream",
     "text": [
      "[6.163755119897619, 27.166357912785934, -5.919733254594213, -0.005882651836657076, -0.005318512757373926, 0.0006924269374074311, 0.0002094586631327562, -0.0005046999104542736, 1.4866328925463787e-05, -0.0013628210341554148, 0.011214961924722516, -0.0006376731957429271, 0.001255226173421664, -0.021502926954655888, 0.009633290638423109, -240.3648269404761, -9.394973040954824e-05, 0.03180622960615098, -4.556005776375583, 0.02687868864189863, -82.66733408010805, 12.901760266375875, -30.7697275930974, -0.03678615953407478, -0.015751455185597785, -0.12866345010740848, 0.11257178067810694, 0.8054964037384198, -0.6530013478678438, 3290.662828428427, -388.32451538158205, -4715.456673917691, -0.16958693824949228, 0.13481836586655438, 14.254466091307345, -49.42222528197111, 47.194027074743126, -0.019958371867088775, -4.156280215795021, 0.09894673327771052, 7.249158421098713, 1.003955969925934, -1.7622009464296853, -6.228670397997752, -5.761281044536516, 1.422964149545838, -8.764698546393122, -3.3954788281820227, 2.68019366721228, -1.1766101027887041, 1.2048271933067891, 0.8884138136839719, -3.7514549526884164, 37.34047237163789, -0.09898142947472968, -0.09049623946493307, -3542.9676754006227, 7127.997330324642, 4055.655828347769, -1009.1804819624557]\n"
     ]
    }
   ],
   "source": [
    "# l=regressor.coef_\n",
    "print(l)\n",
    "# cols=imputed_X_valid.columns\n",
    "# l=list(l)\n",
    "# mlr=pd.DataFrame(l,index=cols)\n",
    "# print(mlr.head())\n",
    "# mlr.to_csv('mlr_coeff.csv')"
   ]
  },
  {
   "cell_type": "code",
   "execution_count": null,
   "metadata": {},
   "outputs": [],
   "source": [
    "# residual plot\n",
    "\n",
    "\n",
    "\n",
    "\n",
    "\n",
    "\n",
    "\n",
    "\n"
   ]
  },
  {
   "cell_type": "markdown",
   "metadata": {},
   "source": [
    "## Saving Model using pickle"
   ]
  },
  {
   "cell_type": "code",
   "execution_count": 29,
   "metadata": {},
   "outputs": [
    {
     "name": "stdout",
     "output_type": "stream",
     "text": [
      "0.9994578374129979 75463.52424483307 274.7062508295599 42.379080021197666\n"
     ]
    }
   ],
   "source": [
    "# from sklearn.metrics import max_error\n",
    "# model = RandomForestRegressor(n_estimators=10, random_state=0)\n",
    "# model.fit(imputed_X_train, y_train)\n",
    "\n",
    "\n",
    "# import pickle\n",
    "\n",
    "# saved_model = pickle.dumps(model)\n",
    " \n",
    "# # Load the pickled model\n",
    "# rfr_from_pickle = pickle.loads(saved_model)\n",
    " \n",
    "# # Use the loaded pickled model to make predictions\n",
    "# rfr_from_pickle.predict(imputed_X_valid)\n",
    "\n",
    "# print(rfr_from_pickle)\n",
    "\n",
    "\n",
    "# model.score(imputed_X_valid,y_valid)\n",
    "# preds= rfr_from_pickle.predict(imputed_X_valid)\n",
    "# print(preds)\n",
    "\n",
    "# r2_e= rfr_from_pickle.score(imputed_X_valid, y_valid)\n",
    "# mse=mean_squared_error(y_valid, preds)\n",
    "# rmse=math.sqrt(mse)\n",
    "# mae=mean_absolute_error(y_valid, preds)\n",
    "# print(r2_e,mse,rmse,mae)\n"
   ]
  },
  {
   "cell_type": "code",
   "execution_count": 32,
   "metadata": {},
   "outputs": [
    {
     "name": "stdout",
     "output_type": "stream",
     "text": [
      "        0\n",
      "0     0.0\n",
      "1  2819.1\n",
      "2    27.8\n",
      "3     2.8\n",
      "4    29.2\n",
      "73900         0\n",
      "1055826    2729\n",
      "460557       25\n",
      "203635        2\n",
      "380485       28\n",
      "Name: confirmed_cases, dtype: int64\n"
     ]
    }
   ],
   "source": [
    "# preds=rfr_from_pickle.predict(imputed_X_valid)\n",
    "\n",
    "# Prediction=list(preds)\n",
    "# d= pd.DataFrame(Prediction)\n",
    "# print(d.head())\n",
    "# print(y_valid.head())"
   ]
  },
  {
   "cell_type": "markdown",
   "metadata": {},
   "source": [
    "## getting percentage accuracy"
   ]
  },
  {
   "cell_type": "code",
   "execution_count": 47,
   "metadata": {},
   "outputs": [
    {
     "data": {
      "text/plain": [
       "0.9994578374129979"
      ]
     },
     "execution_count": 47,
     "metadata": {},
     "output_type": "execute_result"
    }
   ],
   "source": [
    "from sklearn.metrics import max_error\n",
    "model = RandomForestRegressor(n_estimators=10, random_state=0)\n",
    "model.fit(imputed_X_train, y_train)\n",
    "# preds = model.predict(imputed_X_valid)\n",
    "# model.score(imputed_X_valid,y_valid)\n"
   ]
  },
  {
   "cell_type": "code",
   "execution_count": 58,
   "metadata": {},
   "outputs": [
    {
     "ename": "AttributeError",
     "evalue": "'numpy.ndarray' object has no attribute 'head'",
     "output_type": "error",
     "traceback": [
      "\u001b[1;31m---------------------------------------------------------------------------\u001b[0m",
      "\u001b[1;31mAttributeError\u001b[0m                            Traceback (most recent call last)",
      "\u001b[1;32m<ipython-input-58-f76836242455>\u001b[0m in \u001b[0;36m<module>\u001b[1;34m\u001b[0m\n\u001b[1;32m----> 1\u001b[1;33m \u001b[0mprint\u001b[0m\u001b[1;33m(\u001b[0m\u001b[0mpreds\u001b[0m\u001b[1;33m.\u001b[0m\u001b[0mhead\u001b[0m\u001b[1;33m(\u001b[0m\u001b[1;33m)\u001b[0m\u001b[1;33m)\u001b[0m\u001b[1;33m\u001b[0m\u001b[1;33m\u001b[0m\u001b[0m\n\u001b[0m",
      "\u001b[1;31mAttributeError\u001b[0m: 'numpy.ndarray' object has no attribute 'head'"
     ]
    }
   ],
   "source": [
    "print(preds.head())"
   ]
  },
  {
   "cell_type": "markdown",
   "metadata": {},
   "source": [
    "## Getting CSV of results"
   ]
  },
  {
   "cell_type": "code",
   "execution_count": 139,
   "metadata": {},
   "outputs": [],
   "source": [
    "# print(preds)\n",
    "# print(y_valid)\n",
    "# Prediction=list(preds)\n",
    "# d= pd.DataFrame(Prediction)\n",
    "# print(d.head())\n",
    "# e=y_valid\n",
    "# print(e.head())\n",
    "\n",
    "d.to_csv('prediction.csv')\n",
    "e.to_csv('real.csv')\n",
    "# print(y_valid.dtype)\n"
   ]
  }
 ],
 "metadata": {
  "kernelspec": {
   "display_name": "Python 3",
   "language": "python",
   "name": "python3"
  },
  "language_info": {
   "codemirror_mode": {
    "name": "ipython",
    "version": 3
   },
   "file_extension": ".py",
   "mimetype": "text/x-python",
   "name": "python",
   "nbconvert_exporter": "python",
   "pygments_lexer": "ipython3",
   "version": "3.8.5"
  }
 },
 "nbformat": 4,
 "nbformat_minor": 4
}
